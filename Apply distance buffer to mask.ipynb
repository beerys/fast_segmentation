{
 "cells": [
  {
   "cell_type": "code",
   "execution_count": 1,
   "id": "fbbf01b4",
   "metadata": {},
   "outputs": [],
   "source": [
    "import rasterio\n",
    "import numpy as np\n",
    "import cv2"
   ]
  },
  {
   "cell_type": "code",
   "execution_count": 2,
   "id": "68ec3e96",
   "metadata": {},
   "outputs": [],
   "source": [
    "with rasterio.open(\"data/masks/16_pre_imagery_cropped_mask.tif\") as f:\n",
    "    mask = f.read().squeeze()\n",
    "    mask_profile = f.profile"
   ]
  },
  {
   "cell_type": "code",
   "execution_count": 3,
   "id": "81180900",
   "metadata": {},
   "outputs": [],
   "source": [
    "BACKGROUND_CLASS_LABEL = 1\n",
    "BUILDING_CLASS_LABEL = 3\n",
    "\n",
    "nodata_mask = (mask != BUILDING_CLASS_LABEL).astype(np.uint8)"
   ]
  },
  {
   "cell_type": "code",
   "execution_count": 4,
   "id": "93f726ec",
   "metadata": {},
   "outputs": [],
   "source": [
    "transform = cv2.distanceTransform(\n",
    "    nodata_mask, distanceType=cv2.DIST_L2, maskSize=3\n",
    ")"
   ]
  },
  {
   "cell_type": "code",
   "execution_count": 5,
   "id": "58c988d6",
   "metadata": {},
   "outputs": [],
   "source": [
    "BUFFER_SIZE = 3 # meters -- this is in units of the CRS\n",
    "background_mask = (transform > 0) & (transform < BUFFER_SIZE)"
   ]
  },
  {
   "cell_type": "code",
   "execution_count": 6,
   "id": "25bf812a",
   "metadata": {},
   "outputs": [],
   "source": [
    "mask[background_mask] = BACKGROUND_CLASS_LABEL "
   ]
  },
  {
   "cell_type": "code",
   "execution_count": 7,
   "id": "4c276d2d",
   "metadata": {},
   "outputs": [],
   "source": [
    "with rasterio.open(\"data/masks/16_pre_imagery_cropped_mask_buffered.tif\", \"w\", **mask_profile) as f:\n",
    "    f.write(mask, 1)"
   ]
  }
 ],
 "metadata": {
  "kernelspec": {
   "display_name": "torchgeo",
   "language": "python",
   "name": "conda-env-torchgeo-py"
  },
  "language_info": {
   "codemirror_mode": {
    "name": "ipython",
    "version": 3
   },
   "file_extension": ".py",
   "mimetype": "text/x-python",
   "name": "python",
   "nbconvert_exporter": "python",
   "pygments_lexer": "ipython3",
   "version": "3.9.7"
  }
 },
 "nbformat": 4,
 "nbformat_minor": 5
}
