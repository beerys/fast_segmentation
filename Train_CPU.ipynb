{
 "cells": [
  {
   "cell_type": "code",
   "execution_count": 1,
   "id": "6a939feb",
   "metadata": {},
   "outputs": [],
   "source": [
    "%matplotlib inline\n",
    "import os\n",
    "import subprocess\n",
    "\n",
    "import numpy as np\n",
    "import matplotlib.pyplot as plt\n",
    "import torch\n",
    "\n",
    "from trainers import SegmentationTask, SegmentationDataModule\n",
    "import pytorch_lightning as pl\n",
    "\n",
    "from pytorch_lightning import loggers as pl_loggers\n",
    "from pytorch_lightning.callbacks import EarlyStopping, ModelCheckpoint"
   ]
  },
  {
   "cell_type": "code",
   "execution_count": 2,
   "id": "dcd7db30",
   "metadata": {},
   "outputs": [],
   "source": [
    "image_fns = [\n",
    "    \"data/imagery/16_pre_imagery_cropped.tif\",\n",
    "]\n",
    "\n",
    "mask_fns = [\n",
    "    \"data/masks/16_pre_imagery_cropped_mask_buffered.tif\",\n",
    "]"
   ]
  },
  {
   "cell_type": "code",
   "execution_count": 3,
   "id": "0c7131e6",
   "metadata": {},
   "outputs": [],
   "source": [
    "dm = SegmentationDataModule(\n",
    "    image_fns={\"train\": image_fns, \"valid\": image_fns, \"test\": image_fns},\n",
    "    mask_fns={\"train\": mask_fns, \"valid\": mask_fns, \"test\": mask_fns},\n",
    "    batch_size=24,\n",
    "    patch_size=512,\n",
    "    num_workers=6,\n",
    "    batches_per_epoch=256,\n",
    ")"
   ]
  },
  {
   "cell_type": "code",
   "execution_count": 4,
   "id": "e61332b6",
   "metadata": {},
   "outputs": [],
   "source": [
    "task = SegmentationTask(\n",
    "    segmentation_model=\"unet\",\n",
    "    encoder_name=\"resnet18\",\n",
    "    encoder_weights=\"imagenet\", # use None for random weight init\n",
    "    loss=\"ce\",\n",
    "    learning_rate=0.001,\n",
    "    learning_rate_schedule_patience=6,\n",
    "    optimizer=\"adamw\",\n",
    "    weight_decay=0.01,\n",
    ")"
   ]
  },
  {
   "cell_type": "code",
   "execution_count": 8,
   "id": "638f17e0",
   "metadata": {},
   "outputs": [
    {
     "data": {
      "text/plain": [
       "[]"
      ]
     },
     "execution_count": 8,
     "metadata": {},
     "output_type": "execute_result"
    }
   ],
   "source": [
    "[torch.cuda.device(i) for i in range(torch.cuda.device_count())]"
   ]
  },
  {
   "cell_type": "code",
   "execution_count": 15,
   "id": "6c41d21f",
   "metadata": {},
   "outputs": [
    {
     "name": "stdout",
     "output_type": "stream",
     "text": [
      "1.10.2\n"
     ]
    }
   ],
   "source": [
    "print(torch.__version__)"
   ]
  },
  {
   "cell_type": "code",
   "execution_count": 14,
   "id": "d5c4f586",
   "metadata": {},
   "outputs": [
    {
     "name": "stdout",
     "output_type": "stream",
     "text": [
      "False\n"
     ]
    }
   ],
   "source": [
    "print(torch.cuda.is_available())"
   ]
  },
  {
   "cell_type": "code",
   "execution_count": 5,
   "id": "96aefe71",
   "metadata": {},
   "outputs": [
    {
     "name": "stderr",
     "output_type": "stream",
     "text": [
      "GPU available: False, used: False\n",
      "TPU available: False, using: 0 TPU cores\n",
      "IPU available: False, using: 0 IPUs\n"
     ]
    }
   ],
   "source": [
    "log_dir = \"output/logs/\"\n",
    "output_dir = \"output/runs/\"\n",
    "experiment_name = \"unet-resnet18-imagenet-lr_0.001\"\n",
    "experiment_dir = os.path.join(output_dir, experiment_name)\n",
    "\n",
    "tb_logger = pl_loggers.TensorBoardLogger(log_dir, name=experiment_name)\n",
    "\n",
    "checkpoint_callback = ModelCheckpoint( \n",
    "    monitor=\"val_loss\",\n",
    "    dirpath=experiment_dir,\n",
    "    save_top_k=12,\n",
    "    save_last=True,\n",
    ")\n",
    "early_stopping_callback = EarlyStopping(\n",
    "    monitor=\"val_loss\",\n",
    "    min_delta=0.00,\n",
    "    patience=18,\n",
    ")\n",
    "\n",
    "trainer_args = {\n",
    "    \"callbacks\": [checkpoint_callback, early_stopping_callback],\n",
    "    \"logger\": tb_logger,\n",
    "    \"default_root_dir\": experiment_dir,\n",
    "    \"max_epochs\": 15,\n",
    "}\n",
    "\n",
    "trainer = pl.Trainer(**trainer_args)"
   ]
  },
  {
   "cell_type": "code",
   "execution_count": null,
   "id": "df9b656d",
   "metadata": {},
   "outputs": [
    {
     "name": "stderr",
     "output_type": "stream",
     "text": [
      "\n",
      "  | Name                | Type                   | Params\n",
      "---------------------------------------------------------------\n",
      "0 | model               | Unet                   | 14.3 M\n",
      "1 | loss                | CrossEntropyLoss       | 0     \n",
      "2 | train_augmentations | AugmentationSequential | 0     \n",
      "3 | train_metrics       | MetricCollection       | 0     \n",
      "4 | val_metrics         | MetricCollection       | 0     \n",
      "5 | test_metrics        | MetricCollection       | 0     \n",
      "6 | loss1               | CrossEntropyLoss       | 0     \n",
      "7 | loss2               | TverskyLoss            | 0     \n",
      "---------------------------------------------------------------\n",
      "14.3 M    Trainable params\n",
      "0         Non-trainable params\n",
      "14.3 M    Total params\n",
      "57.315    Total estimated model params size (MB)\n"
     ]
    },
    {
     "data": {
      "application/vnd.jupyter.widget-view+json": {
       "model_id": "",
       "version_major": 2,
       "version_minor": 0
      },
      "text/plain": [
       "Validation sanity check: 0it [00:00, ?it/s]"
      ]
     },
     "metadata": {},
     "output_type": "display_data"
    },
    {
     "name": "stderr",
     "output_type": "stream",
     "text": [
      "/home/NC12fleur/anaconda3/envs/torchgeo_test/lib/python3.9/site-packages/pytorch_lightning/trainer/data_loading.py:659: UserWarning: Your `val_dataloader` has `shuffle=True`, it is strongly recommended that you turn this off for val/test/predict dataloaders.\n",
      "  rank_zero_warn(\n"
     ]
    },
    {
     "data": {
      "application/vnd.jupyter.widget-view+json": {
       "model_id": "5063bcaaa44342ddb650a034077363c5",
       "version_major": 2,
       "version_minor": 0
      },
      "text/plain": [
       "Training: 0it [00:00, ?it/s]"
      ]
     },
     "metadata": {},
     "output_type": "display_data"
    }
   ],
   "source": [
    "trainer.fit(model=task, datamodule=dm)"
   ]
  },
  {
   "cell_type": "code",
   "execution_count": null,
   "id": "049cada2",
   "metadata": {},
   "outputs": [],
   "source": []
  }
 ],
 "metadata": {
  "kernelspec": {
   "display_name": "Python 3 (ipykernel)",
   "language": "python",
   "name": "python3"
  },
  "language_info": {
   "codemirror_mode": {
    "name": "ipython",
    "version": 3
   },
   "file_extension": ".py",
   "mimetype": "text/x-python",
   "name": "python",
   "nbconvert_exporter": "python",
   "pygments_lexer": "ipython3",
   "version": "3.9.10"
  }
 },
 "nbformat": 4,
 "nbformat_minor": 5
}
